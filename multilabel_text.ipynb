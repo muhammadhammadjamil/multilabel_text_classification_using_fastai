{
  "nbformat": 4,
  "nbformat_minor": 0,
  "metadata": {
    "colab": {
      "name": "multilabel_text.ipynb",
      "provenance": []
    },
    "kernelspec": {
      "name": "python3",
      "display_name": "Python 3"
    },
    "language_info": {
      "name": "python"
    },
    "accelerator": "GPU"
  },
  "cells": [
    {
      "cell_type": "code",
      "source": [
        "pip install fastai==2.6.3"
      ],
      "metadata": {
        "id": "9XPK3Siw9JuS"
      },
      "execution_count": null,
      "outputs": []
    },
    {
      "cell_type": "code",
      "source": [
        "import fastai\n",
        "fastai.__version__"
      ],
      "metadata": {
        "colab": {
          "base_uri": "https://localhost:8080/",
          "height": 35
        },
        "id": "fQ6O0I6e9h2k",
        "outputId": "30f8b904-9af6-4a5c-cb25-230a73d9a91c"
      },
      "execution_count": 2,
      "outputs": [
        {
          "output_type": "execute_result",
          "data": {
            "text/plain": [
              "'2.6.3'"
            ],
            "application/vnd.google.colaboratory.intrinsic+json": {
              "type": "string"
            }
          },
          "metadata": {},
          "execution_count": 2
        }
      ]
    },
    {
      "cell_type": "code",
      "execution_count": 3,
      "metadata": {
        "id": "y2ClCNKa9E1t"
      },
      "outputs": [],
      "source": [
        "from fastai.text.all import *\n"
      ]
    },
    {
      "cell_type": "code",
      "source": [
        "import os\n",
        "path=os.chdir('/content/drive/MyDrive')\n"
      ],
      "metadata": {
        "id": "5uDygzWJ9SvX"
      },
      "execution_count": 4,
      "outputs": []
    },
    {
      "cell_type": "code",
      "source": [
        "path=Path.cwd()\n",
        "path"
      ],
      "metadata": {
        "colab": {
          "base_uri": "https://localhost:8080/"
        },
        "id": "OK6yeejU9xm7",
        "outputId": "21766117-34a4-447e-bdca-f157212c9aa5"
      },
      "execution_count": 5,
      "outputs": [
        {
          "output_type": "execute_result",
          "data": {
            "text/plain": [
              "Path('/content/drive/MyDrive')"
            ]
          },
          "metadata": {},
          "execution_count": 5
        }
      ]
    },
    {
      "cell_type": "code",
      "source": [
        "path=path/'BBC_data'\n",
        "path.ls()\n"
      ],
      "metadata": {
        "colab": {
          "base_uri": "https://localhost:8080/"
        },
        "id": "zHZ9Ewt09z3z",
        "outputId": "7255f0f1-5c8d-411b-b6e6-32f7faa7051a"
      },
      "execution_count": 6,
      "outputs": [
        {
          "output_type": "execute_result",
          "data": {
            "text/plain": [
              "(#3) [Path('/content/drive/MyDrive/BBC_data/BBC News Sample Solution.csv'),Path('/content/drive/MyDrive/BBC_data/BBC News Train.csv'),Path('/content/drive/MyDrive/BBC_data/BBC News Test.csv')]"
            ]
          },
          "metadata": {},
          "execution_count": 6
        }
      ]
    },
    {
      "cell_type": "code",
      "source": [
        "df=pd.read_csv('/content/drive/MyDrive/BBC_data/BBC News Train.csv')\n",
        "df.head()"
      ],
      "metadata": {
        "id": "m9hZ_muWA08T"
      },
      "execution_count": null,
      "outputs": []
    },
    {
      "cell_type": "code",
      "source": [
        "len(df)"
      ],
      "metadata": {
        "colab": {
          "base_uri": "https://localhost:8080/"
        },
        "id": "dUa2FkXVB0wf",
        "outputId": "78ba63fb-2e85-405e-8263-28bfc7c426e9"
      },
      "execution_count": 8,
      "outputs": [
        {
          "output_type": "execute_result",
          "data": {
            "text/plain": [
              "1490"
            ]
          },
          "metadata": {},
          "execution_count": 8
        }
      ]
    },
    {
      "cell_type": "code",
      "source": [
        "dls = TextDataLoaders.from_csv(path=path, csv_fname='BBC News Train.csv', text_col='Text', label_col='Category',bs=32)"
      ],
      "metadata": {
        "colab": {
          "base_uri": "https://localhost:8080/",
          "height": 17
        },
        "id": "jqunrdqUBGaF",
        "outputId": "e58347d4-463b-4309-e819-d9c3344421a3"
      },
      "execution_count": 9,
      "outputs": [
        {
          "output_type": "display_data",
          "data": {
            "text/plain": [
              "<IPython.core.display.HTML object>"
            ],
            "text/html": [
              "\n",
              "<style>\n",
              "    /* Turns off some styling */\n",
              "    progress {\n",
              "        /* gets rid of default border in Firefox and Opera. */\n",
              "        border: none;\n",
              "        /* Needs to be in here for Safari polyfill so background images work as expected. */\n",
              "        background-size: auto;\n",
              "    }\n",
              "    .progress-bar-interrupted, .progress-bar-interrupted::-webkit-progress-bar {\n",
              "        background: #F44336;\n",
              "    }\n",
              "</style>\n"
            ]
          },
          "metadata": {}
        },
        {
          "output_type": "display_data",
          "data": {
            "text/plain": [
              "<IPython.core.display.HTML object>"
            ],
            "text/html": [
              ""
            ]
          },
          "metadata": {}
        }
      ]
    },
    {
      "cell_type": "code",
      "source": [
        "dls.show_batch(max_n=6)\n"
      ],
      "metadata": {
        "colab": {
          "base_uri": "https://localhost:8080/",
          "height": 758
        },
        "id": "nwgTWx0rBpkG",
        "outputId": "ff3df9f2-27e2-4f35-b663-4ea1ab3d62d8"
      },
      "execution_count": 17,
      "outputs": [
        {
          "output_type": "display_data",
          "data": {
            "text/plain": [
              "<IPython.core.display.HTML object>"
            ],
            "text/html": [
              "<table border=\"1\" class=\"dataframe\">\n",
              "  <thead>\n",
              "    <tr style=\"text-align: right;\">\n",
              "      <th></th>\n",
              "      <th>text</th>\n",
              "      <th>category</th>\n",
              "    </tr>\n",
              "  </thead>\n",
              "  <tbody>\n",
              "    <tr>\n",
              "      <th>0</th>\n",
              "      <td>xxbos minimum wage increased to £ 5.05 the minimum wage will rise in october benefiting more than 1 m people the government has announced . adults must be paid at least £ 5.05 an hour up from £ 4.85 while 18 to 21 year olds will be paid £ 4.25 . the recommendations came from the low pay commission which said the number of jobs had continued to grow since the minimum wage was introduced in 1 xxrep 3 9 . businesses wanted it frozen warning more rises could damage competitiveness but the unions want a £ 6 rate . a further increase in the adult rate to £ xxunk an hour is provisionally scheduled for october 2006 . according to the commission many businesses had found the last two significant increases in the minimum wage challenging . we have therefore recommended only a slight increase above average earnings and</td>\n",
              "      <td>politics</td>\n",
              "    </tr>\n",
              "    <tr>\n",
              "      <th>1</th>\n",
              "      <td>xxbos kilroy launches veritas party ex - bbc chat show host and east midlands mep robert kilroy - silk said he wanted to change the face of british politics as he launched his new party . mr kilroy - silk who recently quit the uk independence party said our country was being stolen from us by mass immigration . he told a london news conference that veritas - latin for truth - would avoid the old parties lies and spin . ukip leader roger knapman says he is glad to see the back of mr kilroy - silk . mr kilroy - silk promised a firm but fair policy on immigration and said they hoped to contest most seats at the forthcoming general election . he said veritas would also announce detailed policies on crime tax pensions health and defence over the next few weeks . labour campaign spokesman fraser</td>\n",
              "      <td>politics</td>\n",
              "    </tr>\n",
              "    <tr>\n",
              "      <th>2</th>\n",
              "      <td>xxbos roundabout continues nostalgia trip the new big - screen version of the magic roundabout released in the uk on friday is the latest attempt to turn children s television into box - office gold . recent years have seen a less - than - successful adaptation of the 1960s puppet show thunderbirds and a xxunk successful version of e xxunk s five children and it previously filmed by the bbc in 1991 . he - man and transformers which were cartoon favourites in the 1980s will soon receive their own costly xxunk . with screen versions of the a - team the xxunk of xxunk and even blake s seven on the cards nostalgia is clearly big business . but some critics complain that these expensive takes on iconic series of xxunk do not match up to our fond memories of the originals . the new version of the</td>\n",
              "      <td>entertainment</td>\n",
              "    </tr>\n",
              "    <tr>\n",
              "      <th>3</th>\n",
              "      <td>xxbos all black magic : new zealand rugby playing colours : all black the haka and more ! the all blacks charles john xxunk discovered rugby at london s christ college and on his return to nelson he staged new zealand s first game . nelson town met nelson college on 14 may xxunk the town triumphing by two goals to xxunk xxunk a game that would become a national obsession and come to dominate the country s sporting xxunk . the game appealed to the kiwi xxunk and quickly spread the native xxunk finding a particular xxunk with the sport s warrior xxunk . in 1 xxrep 3 8 a british team led by xxunk xxunk toured new zealand and australia and soon after a maori named joe xxunk and an english ex - pat called thomas xxunk decided to gather a combined new zealand team . twenty -</td>\n",
              "      <td>sport</td>\n",
              "    </tr>\n",
              "    <tr>\n",
              "      <th>4</th>\n",
              "      <td>xxbos call for action on internet scam phone companies are not doing enough to warn customers about internet rogue - dialling scams according to premium phone line regulator icstis . it has received 45 xxrep 3 0 complaints in recent months about dial - up internet connections diverting to premium rate numbers without users knowledge . phone companies refuse to pay compensation because they say calls must be paid for . they must warn people earlier about possible fraud icstis said . people who use dial - up connections can be affected by the scams . without realising a program can be downloaded which xxunk internet calls via a premium phone line . victims often fail to notice until they receive an unusually high bill . icstis spokesman rob xxunk said : phone companies should get in touch with their customers sooner . if my bill goes over the usual</td>\n",
              "      <td>tech</td>\n",
              "    </tr>\n",
              "    <tr>\n",
              "      <th>5</th>\n",
              "      <td>xxbos franz man seeks government help franz ferdinand frontman alex kapranos has called for more government help for musicians while taking part in an edinburgh lectures discussion . for any cultural output to thrive there needs to be some kind of state input to that as well he said . but kapranos warned against musicians being too closely linked with mps at the university of edinburgh event . i think the role of musicians is to question politicians rather than to go to bed with them he said . kapranos joined the prestigious xxunk series to discuss scotland s role in making 21st century music . there are elements of our musical output which require xxunk because they aren t self - sufficient he said . but so - called commercial music would benefit from investment as well . he warned musicians against being allied to a particular party however</td>\n",
              "      <td>entertainment</td>\n",
              "    </tr>\n",
              "  </tbody>\n",
              "</table>"
            ]
          },
          "metadata": {}
        }
      ]
    },
    {
      "cell_type": "code",
      "source": [
        "learn = text_classifier_learner(dls, AWD_LSTM, drop_mult=0.5, metrics=accuracy)"
      ],
      "metadata": {
        "colab": {
          "base_uri": "https://localhost:8080/",
          "height": 37
        },
        "id": "8pW5_x08D06F",
        "outputId": "7f36333e-e847-4ebc-8f33-0383daf246be"
      },
      "execution_count": 11,
      "outputs": [
        {
          "output_type": "display_data",
          "data": {
            "text/plain": [
              "<IPython.core.display.HTML object>"
            ],
            "text/html": [
              "\n",
              "<style>\n",
              "    /* Turns off some styling */\n",
              "    progress {\n",
              "        /* gets rid of default border in Firefox and Opera. */\n",
              "        border: none;\n",
              "        /* Needs to be in here for Safari polyfill so background images work as expected. */\n",
              "        background-size: auto;\n",
              "    }\n",
              "    .progress-bar-interrupted, .progress-bar-interrupted::-webkit-progress-bar {\n",
              "        background: #F44336;\n",
              "    }\n",
              "</style>\n"
            ]
          },
          "metadata": {}
        },
        {
          "output_type": "display_data",
          "data": {
            "text/plain": [
              "<IPython.core.display.HTML object>"
            ],
            "text/html": [
              "\n",
              "    <div>\n",
              "      <progress value='105070592' class='' max='105067061' style='width:300px; height:20px; vertical-align: middle;'></progress>\n",
              "      100.00% [105070592/105067061 00:02<00:00]\n",
              "    </div>\n",
              "    "
            ]
          },
          "metadata": {}
        }
      ]
    },
    {
      "cell_type": "code",
      "source": [
        "learn.model"
      ],
      "metadata": {
        "colab": {
          "base_uri": "https://localhost:8080/"
        },
        "id": "UkZIdOrbD6hk",
        "outputId": "9030403d-733a-4332-d538-51b577210e30"
      },
      "execution_count": 12,
      "outputs": [
        {
          "output_type": "execute_result",
          "data": {
            "text/plain": [
              "SequentialRNN(\n",
              "  (0): SentenceEncoder(\n",
              "    (module): AWD_LSTM(\n",
              "      (encoder): Embedding(12184, 400, padding_idx=1)\n",
              "      (encoder_dp): EmbeddingDropout(\n",
              "        (emb): Embedding(12184, 400, padding_idx=1)\n",
              "      )\n",
              "      (rnns): ModuleList(\n",
              "        (0): WeightDropout(\n",
              "          (module): LSTM(400, 1152, batch_first=True)\n",
              "        )\n",
              "        (1): WeightDropout(\n",
              "          (module): LSTM(1152, 1152, batch_first=True)\n",
              "        )\n",
              "        (2): WeightDropout(\n",
              "          (module): LSTM(1152, 400, batch_first=True)\n",
              "        )\n",
              "      )\n",
              "      (input_dp): RNNDropout()\n",
              "      (hidden_dps): ModuleList(\n",
              "        (0): RNNDropout()\n",
              "        (1): RNNDropout()\n",
              "        (2): RNNDropout()\n",
              "      )\n",
              "    )\n",
              "  )\n",
              "  (1): PoolingLinearClassifier(\n",
              "    (layers): Sequential(\n",
              "      (0): LinBnDrop(\n",
              "        (0): BatchNorm1d(1200, eps=1e-05, momentum=0.1, affine=True, track_running_stats=True)\n",
              "        (1): Dropout(p=0.2, inplace=False)\n",
              "        (2): Linear(in_features=1200, out_features=50, bias=False)\n",
              "        (3): ReLU(inplace=True)\n",
              "      )\n",
              "      (1): LinBnDrop(\n",
              "        (0): BatchNorm1d(50, eps=1e-05, momentum=0.1, affine=True, track_running_stats=True)\n",
              "        (1): Dropout(p=0.1, inplace=False)\n",
              "        (2): Linear(in_features=50, out_features=5, bias=False)\n",
              "      )\n",
              "    )\n",
              "  )\n",
              ")"
            ]
          },
          "metadata": {},
          "execution_count": 12
        }
      ]
    },
    {
      "cell_type": "code",
      "source": [
        "learn.fine_tune(4, 1e-2)"
      ],
      "metadata": {
        "colab": {
          "base_uri": "https://localhost:8080/",
          "height": 238
        },
        "id": "ZRGL49HCD99o",
        "outputId": "84128bc2-1a5c-481b-ae58-dbab06dfbdf1"
      },
      "execution_count": 13,
      "outputs": [
        {
          "output_type": "display_data",
          "data": {
            "text/plain": [
              "<IPython.core.display.HTML object>"
            ],
            "text/html": [
              "\n",
              "<style>\n",
              "    /* Turns off some styling */\n",
              "    progress {\n",
              "        /* gets rid of default border in Firefox and Opera. */\n",
              "        border: none;\n",
              "        /* Needs to be in here for Safari polyfill so background images work as expected. */\n",
              "        background-size: auto;\n",
              "    }\n",
              "    .progress-bar-interrupted, .progress-bar-interrupted::-webkit-progress-bar {\n",
              "        background: #F44336;\n",
              "    }\n",
              "</style>\n"
            ]
          },
          "metadata": {}
        },
        {
          "output_type": "display_data",
          "data": {
            "text/plain": [
              "<IPython.core.display.HTML object>"
            ],
            "text/html": [
              "<table border=\"1\" class=\"dataframe\">\n",
              "  <thead>\n",
              "    <tr style=\"text-align: left;\">\n",
              "      <th>epoch</th>\n",
              "      <th>train_loss</th>\n",
              "      <th>valid_loss</th>\n",
              "      <th>accuracy</th>\n",
              "      <th>time</th>\n",
              "    </tr>\n",
              "  </thead>\n",
              "  <tbody>\n",
              "    <tr>\n",
              "      <td>0</td>\n",
              "      <td>0.572187</td>\n",
              "      <td>0.225581</td>\n",
              "      <td>0.946309</td>\n",
              "      <td>00:34</td>\n",
              "    </tr>\n",
              "  </tbody>\n",
              "</table>"
            ]
          },
          "metadata": {}
        },
        {
          "output_type": "display_data",
          "data": {
            "text/plain": [
              "<IPython.core.display.HTML object>"
            ],
            "text/html": [
              "\n",
              "<style>\n",
              "    /* Turns off some styling */\n",
              "    progress {\n",
              "        /* gets rid of default border in Firefox and Opera. */\n",
              "        border: none;\n",
              "        /* Needs to be in here for Safari polyfill so background images work as expected. */\n",
              "        background-size: auto;\n",
              "    }\n",
              "    .progress-bar-interrupted, .progress-bar-interrupted::-webkit-progress-bar {\n",
              "        background: #F44336;\n",
              "    }\n",
              "</style>\n"
            ]
          },
          "metadata": {}
        },
        {
          "output_type": "display_data",
          "data": {
            "text/plain": [
              "<IPython.core.display.HTML object>"
            ],
            "text/html": [
              "<table border=\"1\" class=\"dataframe\">\n",
              "  <thead>\n",
              "    <tr style=\"text-align: left;\">\n",
              "      <th>epoch</th>\n",
              "      <th>train_loss</th>\n",
              "      <th>valid_loss</th>\n",
              "      <th>accuracy</th>\n",
              "      <th>time</th>\n",
              "    </tr>\n",
              "  </thead>\n",
              "  <tbody>\n",
              "    <tr>\n",
              "      <td>0</td>\n",
              "      <td>0.294568</td>\n",
              "      <td>0.161709</td>\n",
              "      <td>0.949664</td>\n",
              "      <td>01:41</td>\n",
              "    </tr>\n",
              "    <tr>\n",
              "      <td>1</td>\n",
              "      <td>0.270456</td>\n",
              "      <td>0.143240</td>\n",
              "      <td>0.963087</td>\n",
              "      <td>01:41</td>\n",
              "    </tr>\n",
              "    <tr>\n",
              "      <td>2</td>\n",
              "      <td>0.180134</td>\n",
              "      <td>0.100867</td>\n",
              "      <td>0.963087</td>\n",
              "      <td>01:41</td>\n",
              "    </tr>\n",
              "    <tr>\n",
              "      <td>3</td>\n",
              "      <td>0.113143</td>\n",
              "      <td>0.105975</td>\n",
              "      <td>0.963087</td>\n",
              "      <td>01:41</td>\n",
              "    </tr>\n",
              "  </tbody>\n",
              "</table>"
            ]
          },
          "metadata": {}
        }
      ]
    },
    {
      "cell_type": "code",
      "source": [
        "learn.show_results(max_n=5)"
      ],
      "metadata": {
        "colab": {
          "base_uri": "https://localhost:8080/",
          "height": 622
        },
        "id": "dm9IAddwH5Xd",
        "outputId": "eea154ee-399d-4c33-8256-4c4bb334745d"
      },
      "execution_count": 14,
      "outputs": [
        {
          "output_type": "display_data",
          "data": {
            "text/plain": [
              "<IPython.core.display.HTML object>"
            ],
            "text/html": [
              "\n",
              "<style>\n",
              "    /* Turns off some styling */\n",
              "    progress {\n",
              "        /* gets rid of default border in Firefox and Opera. */\n",
              "        border: none;\n",
              "        /* Needs to be in here for Safari polyfill so background images work as expected. */\n",
              "        background-size: auto;\n",
              "    }\n",
              "    .progress-bar-interrupted, .progress-bar-interrupted::-webkit-progress-bar {\n",
              "        background: #F44336;\n",
              "    }\n",
              "</style>\n"
            ]
          },
          "metadata": {}
        },
        {
          "output_type": "display_data",
          "data": {
            "text/plain": [
              "<IPython.core.display.HTML object>"
            ],
            "text/html": [
              ""
            ]
          },
          "metadata": {}
        },
        {
          "output_type": "display_data",
          "data": {
            "text/plain": [
              "<IPython.core.display.HTML object>"
            ],
            "text/html": [
              "<table border=\"1\" class=\"dataframe\">\n",
              "  <thead>\n",
              "    <tr style=\"text-align: right;\">\n",
              "      <th></th>\n",
              "      <th>text</th>\n",
              "      <th>category</th>\n",
              "      <th>category_</th>\n",
              "    </tr>\n",
              "  </thead>\n",
              "  <tbody>\n",
              "    <tr>\n",
              "      <th>0</th>\n",
              "      <td>xxbos apple laptop is greatest gadget the apple powerbook 100 has been chosen as the greatest gadget of all time by us magazine mobile pc . the 1991 laptop was chosen because it was one of the first lightweight portable computers and helped define the layout of all future notebook pcs . the magazine has compiled an all - time top 100 list of gadgets which includes the sony walkman at number three and the 1956 xxunk remote control at two . gadgets needed moving parts and / or electronics to warrant inclusion . the magazine staff compiled the list and specified that gadgets also needed to be a self - contained apparatus that can be used on its own not a xxunk of another device . in general we included only items that were potentially mobile said the magazine . in the end we tried to get to the</td>\n",
              "      <td>tech</td>\n",
              "      <td>tech</td>\n",
              "    </tr>\n",
              "    <tr>\n",
              "      <th>1</th>\n",
              "      <td>xxbos nadal puts spain 2 - 0 up result : nadal 6 - 7 ( 6 / xxunk 6 - 2 7 - 6 ( 8 / 6 ) 6 - 2 roddick spain s rafael nadal beats andy roddick of the usa in the second singles match rubber of the 2004 davis cup final in seville . spain lead 1 - 0 after carlos moya beat mardy fish in straight sets in the opening match of the tie . nadal holds his nerve and the crowd goes wild as spain go 2 - 0 up in the tie . roddick holds serve to force nadal to serve for the match but the american surely can not turn things around now . nadal works roddick around the court on two consecutive points to earn two break points . one is enough the spaniard secures the double - break and roddick</td>\n",
              "      <td>sport</td>\n",
              "      <td>sport</td>\n",
              "    </tr>\n",
              "    <tr>\n",
              "      <th>2</th>\n",
              "      <td>xxbos critics back aviator for oscars martin scorsese s the aviator will win best film at the oscars according to the uk s leading movie critics . but several of those surveyed by the bbc news website think the veteran film - maker will lose the best director prize to clint eastwood . most of the critics tipped jamie foxx and hilary swank to xxunk best actor and actress for ray and million dollar baby respectively . the jury comprised experts and critics from the top uk film publications . the panel also revealed which nominees they would personally prefer to win . all expect the aviator to win best film but many think it will be a close race between scorsese s howard hughes biopic and eastwood s boxing drama million dollar baby . the other films nominated are wine comedy sideways factual drama finding neverland and ray charles</td>\n",
              "      <td>entertainment</td>\n",
              "      <td>entertainment</td>\n",
              "    </tr>\n",
              "    <tr>\n",
              "      <th>3</th>\n",
              "      <td>xxbos profile : gordon brown the ultimate prize of 10 downing street may continue to xxunk him but as he prepares to deliver a record - breaking ninth budget gordon brown can at least console himself with the thought that he is the longest serving chancellor of modern times . he reached that xxunk last june when he overtook david lloyd george who served for seven years and 43 days between xxunk and xxunk . how much longer mr brown will continue in the job is not clear ( he once said there are two types of chancellor : those who fail and those who get out in time . ) there are rumours he will be moved to the foreign office if labour wins the general election . but for now mr brown dominates the domestic political scene like few chancellors - or politicians - before him . gordon</td>\n",
              "      <td>politics</td>\n",
              "      <td>politics</td>\n",
              "    </tr>\n",
              "    <tr>\n",
              "      <th>4</th>\n",
              "      <td>xxbos gadgets xxunk on show at fair the 2005 consumer electronics show in las vegas is a geek s paradise with more than 50 xxrep 3 0 new gadgets and technologies launched during the four - day event . top gadgets at the show are highlighted in the innovations showcase which recognises some of the hottest developments in consumer electronics . the bbc news website took an early pre - show look at some of those technologies that will be making their debut in 2005 . one of the key issues for keen gadget users is how to store all their digital images audio and video files . the 2.5 gb and 5 gb xxunk pocket hard drive from seagate might help . the external usb drive won a ces best innovations design and engineering award and is small enough to slip into a pocket . it is the kind</td>\n",
              "      <td>tech</td>\n",
              "      <td>tech</td>\n",
              "    </tr>\n",
              "  </tbody>\n",
              "</table>"
            ]
          },
          "metadata": {}
        }
      ]
    },
    {
      "cell_type": "code",
      "source": [
        "text='In October of last year, Mark Zuckerberg had expressed his ambitions to go all-in for the Metaverse while it becomes more expensive over time. After Metas stock price took a hit, the CEO and Facebook founder, has said that he will “slow the pace of some of our investments.Metas profits were down 21% around $7.5 billion from last year, while revenue growth was the slowest the company has experienced yet, rising 7% to $27.9 billion. The company lowered its target expense range for the year 2022 by $3 billion'"
      ],
      "metadata": {
        "id": "B0JyzI6tLevM"
      },
      "execution_count": 21,
      "outputs": []
    },
    {
      "cell_type": "code",
      "source": [
        "learn.predict(text)"
      ],
      "metadata": {
        "colab": {
          "base_uri": "https://localhost:8080/",
          "height": 69
        },
        "id": "_WIT7rfaKBaR",
        "outputId": "eb71128f-dc05-42ed-b523-85a6a4bb3f43"
      },
      "execution_count": 22,
      "outputs": [
        {
          "output_type": "display_data",
          "data": {
            "text/plain": [
              "<IPython.core.display.HTML object>"
            ],
            "text/html": [
              "\n",
              "<style>\n",
              "    /* Turns off some styling */\n",
              "    progress {\n",
              "        /* gets rid of default border in Firefox and Opera. */\n",
              "        border: none;\n",
              "        /* Needs to be in here for Safari polyfill so background images work as expected. */\n",
              "        background-size: auto;\n",
              "    }\n",
              "    .progress-bar-interrupted, .progress-bar-interrupted::-webkit-progress-bar {\n",
              "        background: #F44336;\n",
              "    }\n",
              "</style>\n"
            ]
          },
          "metadata": {}
        },
        {
          "output_type": "display_data",
          "data": {
            "text/plain": [
              "<IPython.core.display.HTML object>"
            ],
            "text/html": [
              ""
            ]
          },
          "metadata": {}
        },
        {
          "output_type": "execute_result",
          "data": {
            "text/plain": [
              "('business',\n",
              " TensorText(0),\n",
              " TensorText([0.9480, 0.0327, 0.0146, 0.0030, 0.0017]))"
            ]
          },
          "metadata": {},
          "execution_count": 22
        }
      ]
    },
    {
      "cell_type": "code",
      "source": [
        "text2=\"A flying camera is the latest release from Snap, the company best known for its photo-sharing app Snapchat.The little yellow drone, called Pixy, is described by the company as a free-flying sidekick which can help people take selfies without a selfie stick.The gadget is available in France and the US, where the laws are more lenient around the use of drones than the UK.It comes as several social media giants are stepping up their hardware and Augmented Reality (AR) offering.The Pixy operates on its own, taking video as it flies, which is then wirelessly transferred and saved in the app.At the end of the flight, the selfie drone lands in the palm of your hand.Although Snapchat does not receive the same level of attention as other social media networks such as Facebook or Twitter, it remains hugely popular.Snapchat has 300 million daily active users around the world, according to the company. It also claims to reach more than 75% of those aged 13-34 in more than 20 countries.\""
      ],
      "metadata": {
        "id": "zxkTdToxKDrg"
      },
      "execution_count": 26,
      "outputs": []
    },
    {
      "cell_type": "code",
      "source": [
        "learn.predict(text2)"
      ],
      "metadata": {
        "colab": {
          "base_uri": "https://localhost:8080/",
          "height": 69
        },
        "id": "6kKzTa2CQxMe",
        "outputId": "c80ac40c-34f9-409e-9099-d5162fa09371"
      },
      "execution_count": 27,
      "outputs": [
        {
          "output_type": "display_data",
          "data": {
            "text/plain": [
              "<IPython.core.display.HTML object>"
            ],
            "text/html": [
              "\n",
              "<style>\n",
              "    /* Turns off some styling */\n",
              "    progress {\n",
              "        /* gets rid of default border in Firefox and Opera. */\n",
              "        border: none;\n",
              "        /* Needs to be in here for Safari polyfill so background images work as expected. */\n",
              "        background-size: auto;\n",
              "    }\n",
              "    .progress-bar-interrupted, .progress-bar-interrupted::-webkit-progress-bar {\n",
              "        background: #F44336;\n",
              "    }\n",
              "</style>\n"
            ]
          },
          "metadata": {}
        },
        {
          "output_type": "display_data",
          "data": {
            "text/plain": [
              "<IPython.core.display.HTML object>"
            ],
            "text/html": [
              ""
            ]
          },
          "metadata": {}
        },
        {
          "output_type": "execute_result",
          "data": {
            "text/plain": [
              "('tech',\n",
              " TensorText(4),\n",
              " TensorText([4.0934e-03, 1.0443e-02, 8.6380e-04, 1.6583e-03, 9.8294e-01]))"
            ]
          },
          "metadata": {},
          "execution_count": 27
        }
      ]
    },
    {
      "cell_type": "code",
      "source": [
        ""
      ],
      "metadata": {
        "id": "KiyKmNkVRJgI"
      },
      "execution_count": null,
      "outputs": []
    }
  ]
}